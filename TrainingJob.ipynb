{
 "cells": [
  {
   "cell_type": "code",
   "execution_count": null,
   "metadata": {},
   "outputs": [
    {
     "name": "stdout",
     "output_type": "stream",
     "text": [
      "arn:aws:iam::432722299252:role/service-role/AmazonSageMaker-ExecutionRole-20211021T181370\n",
      "2022-02-25 19:52:52 Starting - Starting the training job...\n",
      "2022-02-25 19:53:15 Starting - Launching requested ML instancesProfilerReport-1645818771: InProgress\n",
      ".........\n",
      "2022-02-25 19:54:36 Starting - Preparing the instances for training...\n",
      "2022-02-25 19:55:19 Downloading - Downloading input data\n",
      "2022-02-25 19:55:19 Training - Downloading the training image........................"
     ]
    }
   ],
   "source": [
    "from sagemaker.estimator import Estimator\n",
    "from sagemaker import get_execution_role\n",
    "from datetime import datetime\n",
    "\n",
    "role = get_execution_role()\n",
    "\n",
    "hyperparameters = {}\n",
    "\n",
    "train_data = \"\"\n",
    "test_data = \"\"\n",
    "instance_type = \"ml.g4dn.2xlarge\"\n",
    "unique_image_identifier = \"\"\n",
    "date_time = datetime.today().strftime('%Y-%m-%d-%H:%M:%S')\n",
    "\n",
    "estimator = Estimator(\n",
    "    role = role, \n",
    "    instance_count=1,\n",
    "    instance_type=instance_type,\n",
    "    image_uri=f\"432722299252.dkr.ecr.us-east-1.amazonaws.com/sagemaker:{unique_image_identifier}\",\n",
    "    hyperparameters=hyperparameters, \n",
    "    input_mode='FastFile',\n",
    "    output_path=f\"s3://digpath-models/{unique_image_identifier}/\",\n",
    "    environment={\"UNIQUE_IMAGE_IDENTIFIER\": f'{unique_image_identifier}/{date_time}'},\n",
    "    base_job_name=f'{unique_image_identifier}-{date_time}',\n",
    "    checkpoint_s3_uri=f\"s3://digpath-checkpoints/{unique_image_identifier}/{date_time}/\",\n",
    "    checkpoint_local_path=\"/opt/ml/checkpoints/\",\n",
    "    debugger_hook_config=False,\n",
    "    use_spot_instances=True,\n",
    "    max_run=6000,\n",
    "    max_wait=12000\n",
    ")\n",
    "\n",
    "estimator.fit({'train':train_data, 'test':test_data})"
   ]
  },
  {
   "cell_type": "code",
   "execution_count": null,
   "metadata": {},
   "outputs": [],
   "source": []
  },
  {
   "cell_type": "code",
   "execution_count": null,
   "metadata": {},
   "outputs": [],
   "source": []
  }
 ],
 "metadata": {
  "instance_type": "ml.t3.medium",
  "kernelspec": {
   "display_name": "Python 3 (Data Science)",
   "language": "python",
   "name": "python3__SAGEMAKER_INTERNAL__arn:aws:sagemaker:us-east-1:081325390199:image/datascience-1.0"
  },
  "language_info": {
   "codemirror_mode": {
    "name": "ipython",
    "version": 3
   },
   "file_extension": ".py",
   "mimetype": "text/x-python",
   "name": "python",
   "nbconvert_exporter": "python",
   "pygments_lexer": "ipython3",
   "version": "3.7.10"
  }
 },
 "nbformat": 4,
 "nbformat_minor": 4
}
