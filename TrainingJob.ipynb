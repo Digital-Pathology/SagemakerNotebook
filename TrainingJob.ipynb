{
 "cells": [
  {
   "cell_type": "code",
   "execution_count": null,
   "metadata": {},
   "outputs": [
    {
     "name": "stdout",
     "output_type": "stream",
     "text": [
      "arn:aws:iam::432722299252:role/service-role/AmazonSageMaker-ExecutionRole-20211021T181370\n",
      "2022-02-25 19:52:52 Starting - Starting the training job...\n",
      "2022-02-25 19:53:15 Starting - Launching requested ML instancesProfilerReport-1645818771: InProgress\n",
      ".........\n",
      "2022-02-25 19:54:36 Starting - Preparing the instances for training...\n",
      "2022-02-25 19:55:19 Downloading - Downloading input data\n",
      "2022-02-25 19:55:19 Training - Downloading the training image........................"
     ]
    }
   ],
   "source": [
    "from sagemaker.pytorch import PyTorch\n",
    "from sagemaker import get_execution_role\n",
    "from datetime import datetime\n",
    "\n",
    "role = get_execution_role()\n",
    "\n",
    "hyperparameters = {\n",
    "    \"num-classes\": 3, # number of classes in the data mask that we'll aim to predict\n",
    "    \"growth-rate\": 32,\n",
    "    \"num-init-features\": 64,\n",
    "    \"bn-size\": 4,\n",
    "    \"drop-rate\": 0,\n",
    "    \"num-workers\": 8\n",
    "}\n",
    "\n",
    "train_data = \"s3://digpath-data/Initial/train/\"\n",
    "test_data = \"s3://digpath-data/Initial/test/\"\n",
    "checkpoint_local_path = \"/opt/ml/checkpoints/\"\n",
    "instance_type = \"ml.g4dn.16xlarge\"\n",
    "unique_image_identifier = \"kevin_supervised\"\n",
    "date_time = datetime.today().strftime('%Y-%m-%d-%H:%M:%S')\n",
    "checkpoint_s3_uri = f\"s3://digpath-checkpoints/{unique_image_identifier}/{date_time}/\"\n",
    "base_job_name = f'kevin-supervised'\n",
    "environment = {\n",
    "    \"UNIQUE_IMAGE_IDENTIFIER\": f'{unique_image_identifier}/{date_time}',\n",
    "    \"SM_CHECKPOINT_DIR\": checkpoint_local_path\n",
    "}\n",
    "output_path = f\"s3://digpath-models/{unique_image_identifier}/\"\n",
    "input_mode = \"File\"\n",
    "image_uri = f\"432722299252.dkr.ecr.us-east-1.amazonaws.com/sagemaker:{unique_image_identifier}\"\n",
    "\n",
    "estimator = PyTorch(entry_point=\"run.py\",\n",
    "    role = role,\n",
    "    py_version=\"py36\",\n",
    "    framework_version=\"1.8.1\",\n",
    "    instance_count = 2,\n",
    "    instance_type = instance_type,\n",
    "    image_uri = image_uri,\n",
    "    hyperparameters = hyperparameters, \n",
    "    input_mode = input_mode,\n",
    "    output_path = output_path,\n",
    "    environment = environment,\n",
    "    base_job_name = base_job_name,\n",
    "    checkpoint_s3_uri = checkpoint_s3_uri,\n",
    "    checkpoint_local_path = checkpoint_local_path,\n",
    "    distribution={\"smdistributed\": {\"dataparallel\": {\"enabled\": True}}},\n",
    "    debugger_hook_config=False,\n",
    "    use_spot_instances=True,\n",
    "    max_run=6000,\n",
    "    max_wait=12000\n",
    ")\n",
    "\n",
    "estimator.fit({'train':train_data, 'test':test_data})"
   ]
  },
  {
   "cell_type": "code",
   "execution_count": null,
   "metadata": {},
   "outputs": [],
   "source": []
  },
  {
   "cell_type": "code",
   "execution_count": null,
   "metadata": {},
   "outputs": [],
   "source": []
  }
 ],
 "metadata": {
  "instance_type": "ml.t3.medium",
  "kernelspec": {
   "display_name": "Python 3 (Data Science)",
   "language": "python",
   "name": "python3__SAGEMAKER_INTERNAL__arn:aws:sagemaker:us-east-1:081325390199:image/datascience-1.0"
  },
  "language_info": {
   "codemirror_mode": {
    "name": "ipython",
    "version": 3
   },
   "file_extension": ".py",
   "mimetype": "text/x-python",
   "name": "python",
   "nbconvert_exporter": "python",
   "pygments_lexer": "ipython3",
   "version": "3.7.10"
  }
 },
 "nbformat": 4,
 "nbformat_minor": 4
}
