{
 "cells": [
  {
   "cell_type": "code",
   "execution_count": null,
   "metadata": {},
   "outputs": [
    {
     "name": "stdout",
     "output_type": "stream",
     "text": [
      "arn:aws:iam::432722299252:role/service-role/AmazonSageMaker-ExecutionRole-20211021T181370\n",
      "2022-02-25 19:52:52 Starting - Starting the training job...\n",
      "2022-02-25 19:53:15 Starting - Launching requested ML instancesProfilerReport-1645818771: InProgress\n",
      ".........\n",
      "2022-02-25 19:54:36 Starting - Preparing the instances for training...\n",
      "2022-02-25 19:55:19 Downloading - Downloading input data\n",
      "2022-02-25 19:55:19 Training - Downloading the training image........................"
     ]
    }
   ],
   "source": [
    "from sagemaker.estimator import Estimator\n",
    "from sagemaker import get_execution_role\n",
    "\n",
    "role = get_execution_role()\n",
    "\n",
    "print(role)\n",
    "\n",
    "hyperparameters = {\"epochs\" : 1}\n",
    "\n",
    "estimator = Estimator(\n",
    "    role = role, \n",
    "    instance_count=1,\n",
    "    instance_type='ml.g4dn.xlarge',\n",
    "    image_uri=\"432722299252.dkr.ecr.us-east-1.amazonaws.com/sagemaker:latest\",\n",
    "    hyperparameters=hyperparameters, \n",
    "    input_mode='FastFile',\n",
    "    output_path=\"s3://digpath-models\",\n",
    ")\n",
    "\n",
    "estimator.fit({'train':\"s3://digpath-data/Standard/\", 'test':\"s3://digpath-data/Standard/\"})"
   ]
  },
  {
   "cell_type": "code",
   "execution_count": null,
   "metadata": {},
   "outputs": [],
   "source": []
  },
  {
   "cell_type": "code",
   "execution_count": null,
   "metadata": {},
   "outputs": [],
   "source": []
  }
 ],
 "metadata": {
  "instance_type": "ml.t3.medium",
  "kernelspec": {
   "display_name": "Python 3 (Data Science)",
   "language": "python",
   "name": "python3__SAGEMAKER_INTERNAL__arn:aws:sagemaker:us-east-1:081325390199:image/datascience-1.0"
  },
  "language_info": {
   "codemirror_mode": {
    "name": "ipython",
    "version": 3
   },
   "file_extension": ".py",
   "mimetype": "text/x-python",
   "name": "python",
   "nbconvert_exporter": "python",
   "pygments_lexer": "ipython3",
   "version": "3.7.10"
  }
 },
 "nbformat": 4,
 "nbformat_minor": 4
}
